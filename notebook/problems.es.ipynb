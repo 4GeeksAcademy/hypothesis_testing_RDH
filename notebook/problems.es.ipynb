{
 "cells": [
  {
   "cell_type": "markdown",
   "id": "d9d036c6",
   "metadata": {},
   "source": [
    "# Problemas de prueba de hipótesis"
   ]
  },
  {
   "cell_type": "markdown",
   "id": "d157c4db",
   "metadata": {},
   "source": [
    "## Ejercicio 1\n",
    "\n",
    "Usted es un nutricionista que investiga dos tipos diferentes de dietas para ver si existe una diferencia significativa en la pérdida de peso después de un mes. Eliges dos grupos aleatorios de personas; un grupo sigue la primera dieta y el otro sigue la segunda. Al final del mes, se registra la pérdida de peso (en kg) de cada persona:\n",
    "\n",
    "| Diet 1 | Diet 2 |\n",
    "|:-------|:-------|\n",
    "| 2.0 | 3.0 |\n",
    "| 2.5 | 3.2 |\n",
    "| 3.0 | 3.1 |\n",
    "| 2.8 | 2.9 |\n",
    "| 2.3 | 2.8 |\n",
    "| 2.7 | 3.0 |\n",
    "| 2.5 | 3.2 |\n",
    "\n",
    "Con estos datos se busca responder a la siguiente pregunta: ¿Existe una diferencia significativa en la pérdida de peso promedio entre las personas que siguieron la primera dieta y las que siguieron la segunda dieta?\n",
    "\n",
    "Para sacar conclusiones, siga los siguientes puntos:\n",
    "\n",
    "-Enunciar la hipótesis: hipótesis nula y alternativa.\n",
    "-Realizar la prueba para comprobar la hipótesis. Puede utilizar la prueba t de Student.\n",
    "-Analizar las conclusiones."
   ]
  },
  {
   "cell_type": "code",
   "execution_count": 1,
   "id": "8e0f3cf0",
   "metadata": {},
   "outputs": [],
   "source": [
    "import numpy as np\n",
    "import pandas as pd\n",
    "import matplotlib.pyplot as plt\n",
    "import statsmodels.stats.api as sms\n",
    "from scipy import stats"
   ]
  },
  {
   "cell_type": "code",
   "execution_count": 2,
   "id": "399e5c3f",
   "metadata": {},
   "outputs": [
    {
     "name": "stdout",
     "output_type": "stream",
     "text": [
      "0.9635409177367069\n",
      "0.5905246580529597\n"
     ]
    }
   ],
   "source": [
    "# PRUEBAS A PRIORI PARA T-STUDENT\n",
    "\n",
    "#1 Las muestras deben seguir una distribución normal (Prueba de normalidad): \n",
    "\n",
    "Diet1 = [2.0, 2.5, 3.0, 2.8, 2.3, 2.7, 2.5] #Lista de datos grupo 1\n",
    "Diet2 = [3.0, 3.2, 3.1, 2.9, 2.8, 3.0, 3.2] #Lista de datos grupo 2\n",
    "\n",
    "print(stats.shapiro(Diet1)[1])\n",
    "print(stats.shapiro(Diet2)[1])"
   ]
  },
  {
   "cell_type": "markdown",
   "id": "99ccb1b8",
   "metadata": {},
   "source": [
    "Análisis prueba de normalidad: siendo el p value del grupo de la Dieta 1 y el grupo de la Dieta 2 un valor alto, podríamos suponer que la distribución de donde proviene la muestra sigue la normalidad. No rechazamos la hipótesis nula presuponiendo que la distribución de ambas es normal. "
   ]
  },
  {
   "cell_type": "code",
   "execution_count": 3,
   "id": "69f8186d",
   "metadata": {},
   "outputs": [
    {
     "name": "stdout",
     "output_type": "stream",
     "text": [
      "0.15767770055358\n"
     ]
    }
   ],
   "source": [
    "#2 Prueba de varianzas muestrales. Para hacer un T-student debemos suponer que la dispersión de sus datos son similares.\n",
    "\n",
    "print(stats.levene(Diet1, Diet2).pvalue)"
   ]
  },
  {
   "cell_type": "markdown",
   "id": "21938c8b",
   "metadata": {},
   "source": [
    "Análisis de comparación de varianzas (Levene) : Al ser éste un valor superior a 0.05, no podemos rechazar la hipótesis nula, asumiendo así que las varianzas entre ambos grupos no son distintas."
   ]
  },
  {
   "cell_type": "code",
   "execution_count": 4,
   "id": "e7adef71",
   "metadata": {},
   "outputs": [
    {
     "name": "stdout",
     "output_type": "stream",
     "text": [
      "Valor de T :-3.5383407969933938\n",
      "Probabilidad asociada al t: 0.004083270191713912\n",
      "Rechazamos hipótesis nula, asumiendo que las medias de las muestras no son similares\n",
      "Existe una diferencia estadísticamente significativa entre las dietas aplicadas entre el grupo Dieta 1 y Dieta 2\n"
     ]
    }
   ],
   "source": [
    "#3 Prueba T-Student para comparación de medias muestrales:\n",
    "\n",
    "#Hipótesis nula : La media de las muestras son iguales\n",
    "#Hipótesis alternativa : La media de las muestras no son iguales \n",
    "\n",
    "#Test de hipótesis\n",
    "t_stat, p_value = stats.ttest_ind(Diet1, Diet2)\n",
    "\n",
    "# Definir el nivel alpha:\n",
    "nivel_alpha = 0.05\n",
    "\n",
    "print(f'Valor de T :{t_stat}')\n",
    "print(f'Probabilidad asociada al t: {p_value}')\n",
    "\n",
    "#Comparación del p_value asociado al test con el valor alpha (confianza)\n",
    "if p_value < nivel_alpha:\n",
    "    print('Rechazamos hipótesis nula, asumiendo que las medias de las muestras no son similares')\n",
    "    print('Existe una diferencia estadísticamente significativa entre las dietas aplicadas entre el grupo Dieta 1 y Dieta 2')\n",
    "else:\n",
    "    print('No podemos rechazar la hipótesis nula')\n",
    "    print('No hay evidencia estadística suficiente para que exista diferencia entre el grupo Dieta 1 y Dieta 2')"
   ]
  },
  {
   "cell_type": "code",
   "execution_count": 5,
   "id": "58ac66ff",
   "metadata": {},
   "outputs": [
    {
     "name": "stdout",
     "output_type": "stream",
     "text": [
      "2.542857142857143\n",
      "3.0285714285714285\n"
     ]
    }
   ],
   "source": [
    "#Comparación de medias sabiendo que existe diferencia significativa :\n",
    "\n",
    "mean_diet1 = np.mean(Diet1)\n",
    "mean_diet2 = np.mean(Diet2)\n",
    "\n",
    "print(mean_diet1)\n",
    "print(mean_diet2)"
   ]
  },
  {
   "cell_type": "markdown",
   "id": "12191b8e",
   "metadata": {},
   "source": [
    "**CONCLUSIONES:**\n",
    "De acuerdo a las características de los pacientes y el criterio profesional en cuanto a la aplicación de ambas dietas, si el propósito finalmente es la pérdida de peso, podríamos inferir que la Dieta 2 es mejor. Sin embargo, considero que estaría sujeta a otros tipos de investigaciones en función de las personas que se someten a la misma, dado que la pérdida de peso en exceso o muy acelerada también podría ser contraproducente. "
   ]
  },
  {
   "cell_type": "markdown",
   "id": "f432e18e",
   "metadata": {},
   "source": [
    "## ANOVA\n",
    "\n",
    "**ANOVA** (*Analysis of Variance - Análisis de variación*) Es una técnica estadística utilizada para comparar las medidas de dos o más grupos. La idea detrás de ANOVA es descomponer la variabilidad total de los datos en dos componentes: variabilidad entre grupos y variabilidad dentro de los grupos:\n",
    "\n",
    "- **Variabilidad entre grupos**: Esta variabilidad se refiere a las diferencias entre las medias del grupo. Si esta variabilidad es considerablemente mayor que la variabilidad dentro del grupo, podría ser una indicación de que al menos una de las medias del grupo es diferente.\n",
    "- **Variabilidad dentro del grupo**: Esta variabilidad se refiere a la dispersión de los datos dentro de cada grupo. Si todos los grupos tienen una variabilidad similar, entonces cualquier diferencia notable en las medias de los grupos podría considerarse significativa.\n",
    "\n",
    "Las hipótesis en ANOVA suelen incluir:\n",
    "\n",
    "- **Hipótesis nula** ($H₀$): Las medias de todos los grupos son iguales.\n",
    "- **Hipótesis alternativa** ($H₁$): Al menos una de las medias del grupo es diferente.\n",
    "\n",
    "Si el resultado de la prueba ANOVA es significativo (por ejemplo, un valor p inferior a un umbral como 0,05), esto sugiere que al menos la media de un grupo es diferente."
   ]
  },
  {
   "cell_type": "markdown",
   "id": "fc5f3721",
   "metadata": {},
   "source": [
    "## Ejercicio 2\n",
    "\n",
    "Un agricultor decide probar tres tipos diferentes de fertilizantes para determinar si alguno es superior en términos de producción de maíz. El agricultor planta maíz en 15 parcelas idénticas y utiliza los tres fertilizantes (5 parcelas para cada tipo). Al final de la temporada mide el rendimiento de maíz (en kg) de cada parcela, con el siguiente resultado:\n",
    "\n",
    "| Fertilizante 1 | Fertilizante 2 | Fertilizante 3 |\n",
    "|:-------------|:-------------|:-------------|\n",
    "| 20 | 22 | 24 |\n",
    "| 21 | 21 | 23 |\n",
    "| 20 | 23 | 22 |\n",
    "| 19 | 22 | 23 |\n",
    "| 20 | 21 | 24 |\n",
    "\n",
    "Con estos datos busca responder la siguiente pregunta: ¿Existe una diferencia significativa en el rendimiento promedio del maíz entre los tres tipos de fertilizantes?\n",
    "\n",
    "Para ayudarte, sigue los siguientes puntos:\n",
    "\n",
    "-Enunciar la hipótesis: hipótesis nula y alternativa.\n",
    "-Realizar la prueba ANOVA.\n",
    "-Analizar las conclusiones.\n",
    "-Si un fertilizante es mejor que otro, ¿cómo podemos saberlo?"
   ]
  },
  {
   "cell_type": "code",
   "execution_count": 6,
   "id": "eecad0ca",
   "metadata": {},
   "outputs": [
    {
     "name": "stdout",
     "output_type": "stream",
     "text": [
      "Shapiro-Wilk p-value para Fertilizante 1: 0.32542950716414576\n",
      "Shapiro-Wilk p-value para Fertilizante 2: 0.3140395561440371\n",
      "Shapiro-Wilk p-value para Fertilizante 3: 0.3140395561440371\n"
     ]
    }
   ],
   "source": [
    "#Datos para análisis:\n",
    "\n",
    "fert1 = [20,21,20,19,20]\n",
    "fert2= [22,21,23,22,21]\n",
    "fert3 = [24,23,22,23,24]\n",
    "\n",
    "#PRUEBAS A PRIORI PARA ANOVA :\n",
    "\n",
    "#1 Prueba de Normalidad : Test Shapiro (puesto que el n es muy pequeño)\n",
    "\n",
    "print(\"Shapiro-Wilk p-value para Fertilizante 1:\", stats.shapiro(fert1).pvalue)\n",
    "print(\"Shapiro-Wilk p-value para Fertilizante 2:\", stats.shapiro(fert2).pvalue)\n",
    "print(\"Shapiro-Wilk p-value para Fertilizante 3:\", stats.shapiro(fert3).pvalue)"
   ]
  },
  {
   "cell_type": "markdown",
   "id": "fe6ec2bd",
   "metadata": {},
   "source": [
    "H0 = la muestra proviene de una población cuya distribución es normal.\n",
    "H1 = la muestra proviene de una problación cuya distribución no es normal.\n",
    "\n",
    "*Análisis de la prueba de normalidad:* los p_value de cada muestra de fertilizantes resultaron ser altos (mayores a 0.05), por ende, no se rechaza la hipótesis nula. Las muestras provienen de una población cuya distribución es normal."
   ]
  },
  {
   "cell_type": "code",
   "execution_count": 7,
   "id": "f9a14eea",
   "metadata": {},
   "outputs": [
    {
     "name": "stdout",
     "output_type": "stream",
     "text": [
      "0.8039599174006208\n"
     ]
    }
   ],
   "source": [
    "#2 Prueba de homogeneidad de varianzas (Levene):\n",
    "\n",
    "print(stats.levene(fert1, fert2, fert3).pvalue)"
   ]
  },
  {
   "cell_type": "markdown",
   "id": "83d74173",
   "metadata": {},
   "source": [
    "H0 = No hay diferencias en las varianzas de cada muestra.\n",
    "H1 = Existen diferencias en las varianzas de las muestras.\n",
    "\n",
    "*Análisis prueba de homogeneidad:* El p_value resultante es mayor a 0.05, por lo tanto, no se puede rechazar la hipótesis nula, lo que nos lleva a inferir que las varianzas de los grupos muestrales no existen diferencias significativas."
   ]
  },
  {
   "cell_type": "code",
   "execution_count": 8,
   "id": "b299fcc0",
   "metadata": {},
   "outputs": [
    {
     "name": "stdout",
     "output_type": "stream",
     "text": [
      "Valor de F: 20.315789473684188\n",
      "valor P-asociado: 0.00014047824793190472\n",
      "Se rechaza la hipótesis nula, al menos uno de los fertilizantes genera una media de rendimiento diferente al resto\n"
     ]
    }
   ],
   "source": [
    "#3 Prueba ANOVA para evaluar la independencia entre los fertilizantes y el rendimiento del maíz:\n",
    "\n",
    "f_stat, p_value = stats.f_oneway(fert1, fert2, fert3) #Anova - One way porque es a medir en una sola condición.\n",
    "\n",
    "print(f\"Valor de F: {f_stat}\")\n",
    "print(f\"valor P-asociado: {p_value}\")\n",
    "\n",
    "if p_value < nivel_alpha:\n",
    "     print(\"Se rechaza la hipótesis nula, al menos uno de los fertilizantes genera una media de rendimiento diferente al resto\")\n",
    "else:\n",
    "    print(\"No se rechaza la hipótesis nula, por ende, la media de rendimiento de los fertilizantes no tiene diferencias significativas\")"
   ]
  },
  {
   "cell_type": "markdown",
   "id": "f13ee224",
   "metadata": {},
   "source": [
    "H0 = Las medias del rendimiento del maíz no son diferentes entre los tres fertilizantes. Lo que supone que todos los fertilizantes producen el mismo rendimiento de maíz en promedio.\n",
    "H1 = Al menos un fertilizante produce un rendimiento de maíz significativamente diferente de los otros.\n",
    "\n",
    "*Análisis prueba de ANOVA:* dado el valor del estadístico F, que es grande, nos permite ya determinar que la variabilidad entre fertilizantes es mayor que la variabilidad dentro de cada uno de ellos, siendo probable que las diferencias en los rendimientos de maíz entre los fertilizantes no sean debidas al azar. El resultado del p_value (menor a 0,05) confirma que existen diferencias estadísticamente entre ellos y que al menos uno de ellos produce un rendimiento de maiz significativamente diferente."
   ]
  },
  {
   "cell_type": "code",
   "execution_count": 9,
   "id": "11e1c252",
   "metadata": {},
   "outputs": [
    {
     "data": {
      "text/html": [
       "<div>\n",
       "<style scoped>\n",
       "    .dataframe tbody tr th:only-of-type {\n",
       "        vertical-align: middle;\n",
       "    }\n",
       "\n",
       "    .dataframe tbody tr th {\n",
       "        vertical-align: top;\n",
       "    }\n",
       "\n",
       "    .dataframe thead th {\n",
       "        text-align: right;\n",
       "    }\n",
       "</style>\n",
       "<table border=\"1\" class=\"dataframe\">\n",
       "  <thead>\n",
       "    <tr style=\"text-align: right;\">\n",
       "      <th></th>\n",
       "      <th>Fertilizante 1</th>\n",
       "      <th>Fertilizante 2</th>\n",
       "      <th>Fertilizante 3</th>\n",
       "    </tr>\n",
       "  </thead>\n",
       "  <tbody>\n",
       "    <tr>\n",
       "      <th>0</th>\n",
       "      <td>20</td>\n",
       "      <td>22</td>\n",
       "      <td>24</td>\n",
       "    </tr>\n",
       "    <tr>\n",
       "      <th>1</th>\n",
       "      <td>21</td>\n",
       "      <td>21</td>\n",
       "      <td>23</td>\n",
       "    </tr>\n",
       "    <tr>\n",
       "      <th>2</th>\n",
       "      <td>20</td>\n",
       "      <td>23</td>\n",
       "      <td>22</td>\n",
       "    </tr>\n",
       "    <tr>\n",
       "      <th>3</th>\n",
       "      <td>19</td>\n",
       "      <td>22</td>\n",
       "      <td>23</td>\n",
       "    </tr>\n",
       "    <tr>\n",
       "      <th>4</th>\n",
       "      <td>20</td>\n",
       "      <td>21</td>\n",
       "      <td>24</td>\n",
       "    </tr>\n",
       "  </tbody>\n",
       "</table>\n",
       "</div>"
      ],
      "text/plain": [
       "   Fertilizante 1  Fertilizante 2  Fertilizante 3\n",
       "0              20              22              24\n",
       "1              21              21              23\n",
       "2              20              23              22\n",
       "3              19              22              23\n",
       "4              20              21              24"
      ]
     },
     "execution_count": 9,
     "metadata": {},
     "output_type": "execute_result"
    }
   ],
   "source": [
    "#4 Creamos arrays a partir de los datos para graficar resultados:\n",
    "data = {\n",
    "    'Fertilizante 1': fert1,\n",
    "    'Fertilizante 2': fert2,\n",
    "    'Fertilizante 3': fert3\n",
    "}\n",
    "df = pd.DataFrame(data)\n",
    "df"
   ]
  },
  {
   "cell_type": "code",
   "execution_count": 10,
   "id": "777e867e",
   "metadata": {},
   "outputs": [
    {
     "data": {
      "text/plain": [
       "<function matplotlib.pyplot.show(close=None, block=None)>"
      ]
     },
     "execution_count": 10,
     "metadata": {},
     "output_type": "execute_result"
    },
    {
     "data": {
      "image/png": "[encoded data removed]",
      "text/plain": [
       "<Figure size 640x480 with 1 Axes>"
      ]
     },
     "metadata": {},
     "output_type": "display_data"
    }
   ],
   "source": [
    "# Métodos de graficación\n",
    "\n",
    "plt.boxplot(df, showmeans= True)\n",
    "plt.title('Rendimiento en producción de maiz con cada Fertilizante')\n",
    "plt.xlabel('Fertilizantes')\n",
    "plt.ylabel('Rendimiento de maiz (kg)')\n",
    "plt.show"
   ]
  },
  {
   "cell_type": "markdown",
   "id": "11626aa0",
   "metadata": {},
   "source": [
    "Dado el gráfico creado, es posible observar que las distribuciones de los fertilizantes 2 y 3 son similares entre ellas (la forma de dispersión de datos) a pesar de ser el fertilizante 3 quien genera, aparentemente, mayor rendimiento en la producción de maíz. Sin embargo, el fertilizante 1 mantiene sus elementos de dispersión fuera del alcance del comportamiento de los otros dos, sugiriendo que es el que genera menor rendimiento de la producción de maiz, siendo bastante probable que éste sea el diferente estadísticamente. Se deberá realizar una prueba post-hoc para certificarlo."
   ]
  },
  {
   "cell_type": "markdown",
   "id": "8c00c9b3",
   "metadata": {},
   "source": [
    "## Ejercicio 3\n",
    "\n",
    " Supongamos que una empresa de la industria del café afirma que su peso medio del paquete de café es de 500 gramos. Recoges una muestra de 30 paquetes para testar esta afirmación. Utiliza la prueba t de una muestra para evaluar si la media poblacional es realmente de 500 gramos con un nivel de significancia del 0.05."
   ]
  },
  {
   "cell_type": "code",
   "execution_count": 11,
   "id": "04befd44",
   "metadata": {},
   "outputs": [],
   "source": [
    "muestras = [507.84, 488.19, 501.65, 494.70,\n",
    "           479.79, 505.65, 500.42, 503.53,\n",
    "           486.65 , 505.63, 486.26, 498.87,\n",
    "           490.56, 502.16 , 491.24 , 506.23,\n",
    "           503.81, 493.83, 509.51, 491.74,\n",
    "           488.10 , 496.29 , 501.80, 490.73,\n",
    "           493.97, 486.00, 498.68, 498.72,\n",
    "           473.91, 483.49]"
   ]
  },
  {
   "cell_type": "code",
   "execution_count": 12,
   "id": "7864dd28",
   "metadata": {},
   "outputs": [
    {
     "name": "stdout",
     "output_type": "stream",
     "text": [
      "Estadístico W: 0.9695730337789565\n",
      "Valor_p: 0.5275588709521144\n",
      "No se rechaza la hipótesis nula, los datos provienen de una distribución normal\n"
     ]
    }
   ],
   "source": [
    "# PRUEBAS A PRIORI PARA T-STUDENT\n",
    "\n",
    "#Pruebas de normalidad Shapiro Wilk:\n",
    "\n",
    "stat, p_value = stats.shapiro(muestras)\n",
    "\n",
    "print(f\"Estadístico W: {stat}\")\n",
    "print(f\"Valor_p: {p_value}\")\n",
    "\n",
    "if p_value < nivel_alpha:\n",
    "    print(\"Se rechaza la hipótesis nula, los datos no cumplen con una distribución normal\")\n",
    "else:\n",
    "    print(\"No se rechaza la hipótesis nula, los datos provienen de una distribución normal\")\n"
   ]
  },
  {
   "cell_type": "code",
   "execution_count": 13,
   "id": "713f0b7d",
   "metadata": {},
   "outputs": [
    {
     "name": "stdout",
     "output_type": "stream",
     "text": [
      "Valor t: -2.880518471640414\n",
      "P-valor: 0.0073921556988829715\n",
      "Rechazamos la hipótesis nula.\n",
      "Hay evidencia estadística significativa de que existe una diferencia entre el peso medio de la muestra y el que afirma la empresa.\n"
     ]
    }
   ],
   "source": [
    "# Prueba T-student que compara la distribución de una población con un valor fijo.\n",
    "\n",
    "t_stat, p_valor = stats.ttest_1samp(muestras, 500)\n",
    "\n",
    "print('Valor t:', t_stat)\n",
    "print('P-valor:', p_valor)\n",
    "\n",
    "# Realizar la prueba de hipótesis\n",
    "if p_valor < nivel_alpha:\n",
    "    print(\"Rechazamos la hipótesis nula.\")\n",
    "    print(\"Hay evidencia estadística significativa de que existe una diferencia entre el peso medio de la muestra y el que afirma la empresa.\")\n",
    "else:\n",
    "    print(\"No podemos rechazar la hipótesis nula.\")\n",
    "    print(\"No hay evidencia estadística suficiente para afirmar que exista una diferencia entre el peso medio de la muestra y el peso que afirma la empresa.\")"
   ]
  },
  {
   "cell_type": "code",
   "execution_count": 19,
   "id": "17914dc4",
   "metadata": {},
   "outputs": [
    {
     "data": {
      "image/png": "[encoded data removed]",
      "text/plain": [
       "<Figure size 640x480 with 1 Axes>"
      ]
     },
     "metadata": {},
     "output_type": "display_data"
    }
   ],
   "source": [
    "#4 Método de graficación para mostrar lo comprobado:\n",
    "\n",
    "plt.boxplot(muestras)\n",
    "plt.axhline(y = 500, color='r', linestyle='--', label='Valor esperado: 500')\n",
    "plt.title(\"Boxplot con valor esperado\")\n",
    "plt.xlabel('muestra')\n",
    "plt.ylabel('g de café')\n",
    "plt.legend()\n",
    "plt.show()"
   ]
  },
  {
   "cell_type": "markdown",
   "id": "ae56c67d",
   "metadata": {},
   "source": [
    "El siguiente gráfico nos muestra cómo el valor medio del peso en gr de café por paquete establecido por la industria (500g) se encuentra por encima de la realidad de la media de las muestras tomadas. Es decir, no se cumple el peso establecido (o rotulado) por la industria en los paquetes medidos, cuestión que podría suponer una revisión de sus contenidos. También sugiero realizar el estudio con una muestra superior dada las dispersiones de los datos para garantizar rigurosidad en la prueba y consistencia en la toma de decisiones. "
   ]
  }
 ],
 "metadata": {
  "kernelspec": {
   "display_name": "Python 3",
   "language": "python",
   "name": "python3"
  },
  "language_info": {
   "codemirror_mode": {
    "name": "ipython",
    "version": 3
   },
   "file_extension": ".py",
   "mimetype": "text/x-python",
   "name": "python",
   "nbconvert_exporter": "python",
   "pygments_lexer": "ipython3",
   "version": "3.11.4"
  }
 },
 "nbformat": 4,
 "nbformat_minor": 5
}
